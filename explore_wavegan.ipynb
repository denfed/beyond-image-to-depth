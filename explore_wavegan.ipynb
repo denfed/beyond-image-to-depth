{
 "cells": [
  {
   "cell_type": "code",
   "execution_count": null,
   "id": "bbfdceac-6522-48b7-a285-7569d708fec4",
   "metadata": {},
   "outputs": [],
   "source": [
    "# Mess around with the WaveGan architecture to see if it will work for our case"
   ]
  },
  {
   "cell_type": "code",
   "execution_count": 1,
   "id": "ddaedaf4-ca50-411f-acf3-589336865b40",
   "metadata": {},
   "outputs": [
    {
     "name": "stderr",
     "output_type": "stream",
     "text": [
      "/home/dcfedori/anaconda3/envs/habitat-headless/lib/python3.7/site-packages/tqdm/auto.py:22: TqdmWarning: IProgress not found. Please update jupyter and ipywidgets. See https://ipywidgets.readthedocs.io/en/stable/user_install.html\n",
      "  from .autonotebook import tqdm as notebook_tqdm\n"
     ]
    }
   ],
   "source": [
    "from models.wavegan_model import *\n",
    "import torch"
   ]
  },
  {
   "cell_type": "code",
   "execution_count": 10,
   "id": "dc703589-c566-40a0-8e47-f2c25accd5e0",
   "metadata": {},
   "outputs": [],
   "source": [
    "G = WaveGANGenerator(\n",
    "            verbose=True, latent_dim=512, upsample=True, use_batch_norm=True, slice_len=65536\n",
    "        )"
   ]
  },
  {
   "cell_type": "code",
   "execution_count": 11,
   "id": "a15d9575-11ec-4bc2-8f69-31ff3e36b4d6",
   "metadata": {},
   "outputs": [
    {
     "name": "stdout",
     "output_type": "stream",
     "text": [
      "torch.Size([10, 2048, 16])\n",
      "torch.Size([10, 1024, 64])\n",
      "torch.Size([10, 512, 256])\n",
      "torch.Size([10, 256, 1024])\n",
      "torch.Size([10, 128, 4096])\n",
      "torch.Size([10, 64, 16384])\n",
      "torch.Size([10, 1, 65536])\n"
     ]
    }
   ],
   "source": [
    "out = G(torch.randn(10, 512))"
   ]
  },
  {
   "cell_type": "code",
   "execution_count": null,
   "id": "7979a523-5eb2-417f-bbe3-899a757c0c08",
   "metadata": {},
   "outputs": [],
   "source": []
  }
 ],
 "metadata": {
  "kernelspec": {
   "display_name": "Python 3",
   "language": "python",
   "name": "python3"
  },
  "language_info": {
   "codemirror_mode": {
    "name": "ipython",
    "version": 3
   },
   "file_extension": ".py",
   "mimetype": "text/x-python",
   "name": "python",
   "nbconvert_exporter": "python",
   "pygments_lexer": "ipython3",
   "version": "3.7.15"
  }
 },
 "nbformat": 4,
 "nbformat_minor": 5
}
